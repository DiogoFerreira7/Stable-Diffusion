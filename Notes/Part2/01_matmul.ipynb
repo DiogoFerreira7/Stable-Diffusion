{
 "cells": [
  {
   "cell_type": "code",
   "execution_count": 1,
   "metadata": {},
   "outputs": [],
   "source": [
    "from pathlib import Path\n",
    "import math, os, time, shutil\n",
    "import matplotlib as mpl\n",
    "import matplotlib.pyplot as plt\n",
    "# Since we are just using mnist dataset then we will want all images that we show to be grayscale\n",
    "mpl.rcParams['image.cmap'] = 'gray'\n",
    "\n",
    "# Using the basic MNIST dataset to test out the basics first\n",
    "MNIST_URL='https://github.com/mnielsen/neural-networks-and-deep-learning/blob/master/data/mnist.pkl.gz?raw=true'\n",
    "path = Path('data')\n",
    "path.mkdir(exist_ok=True)\n",
    "mnist_path = path/'mnist.pkl.gz'\n",
    "\n",
    "# Gets a URL into a location onto disk, here we are checking if that path already exists, if it does not then we use urlretrieve and download it\n",
    "from urllib.request import urlretrieve\n",
    "if not mnist_path.exists(): \n",
    "    urlretrieve(MNIST_URL, mnist_path)"
   ]
  },
  {
   "cell_type": "code",
   "execution_count": 3,
   "metadata": {},
   "outputs": [],
   "source": [
    "import gzip, pickle\n",
    "\n",
    "# We can use gzipo to open the mnist file, and split the data into x/y, train/validation\n",
    "with gzip.open(mnist_path, 'rb') as f: \n",
    "    ((x_train, y_train), (x_valid, y_valid), _) = pickle.load(f, encoding='latin-1')"
   ]
  },
  {
   "cell_type": "code",
   "execution_count": 12,
   "metadata": {},
   "outputs": [
    {
     "data": {
      "text/plain": [
       "[array([0.98828125, 0.98828125, 0.98828125, 0.98046875, 0.36328125,\n",
       "        0.3203125 , 0.3203125 , 0.21875   , 0.15234375, 0.        ],\n",
       "       dtype=float32),\n",
       " array([0., 0., 0., 0., 0., 0., 0., 0., 0., 0.], dtype=float32),\n",
       " array([0.        , 0.0703125 , 0.85546875, 0.98828125, 0.98828125,\n",
       "        0.98828125, 0.98828125, 0.98828125, 0.7734375 , 0.7109375 ],\n",
       "       dtype=float32),\n",
       " array([0.96484375, 0.94140625, 0.        , 0.        , 0.        ,\n",
       "        0.        , 0.        , 0.        , 0.        , 0.        ],\n",
       "       dtype=float32)]"
      ]
     },
     "execution_count": 12,
     "metadata": {},
     "output_type": "execute_result"
    }
   ],
   "source": [
    "# Each image is of size 784 - we can always reshape them into 28 x 28\n",
    "x_train[0].shape\n",
    "\n",
    "def chunks(x, sz):\n",
    "    for i in range(0, len(x), sz): yield x[i:i+sz]\n",
    "\n",
    "# Here we can loop over the size of our data that we have and then we can split this data into chunks that we can processs using yield x[i:i+sz] - the i will be the unique starting point\n",
    "# Then we will jump over the size\n",
    "list(chunks(x_train[0][210:250], 10))"
   ]
  },
  {
   "cell_type": "code",
   "execution_count": 14,
   "metadata": {},
   "outputs": [
    {
     "data": {
      "text/plain": [
       "[0.98828125, 0.98828125, 0.98828125, 0.98046875, 0.36328125]"
      ]
     },
     "execution_count": 14,
     "metadata": {},
     "output_type": "execute_result"
    }
   ],
   "source": [
    "from itertools import islice\n",
    "\n",
    "it = iter(x_train[0][210:250])\n",
    "# If you have an iterator that will allow you to go through the list of mnist pixels as an example here then we can use islice and choose the slice size that we want\n",
    "# here given we have a value of 5 then we will slice through the iterator values of 5 at a time which is much easier that our prior chunks data\n",
    "islice(it, 5)\n",
    "list(islice(it, 5))"
   ]
  },
  {
   "cell_type": "code",
   "execution_count": 19,
   "metadata": {},
   "outputs": [
    {
     "data": {
      "text/plain": [
       "<matplotlib.image.AxesImage at 0x1e5c8f55d00>"
      ]
     },
     "execution_count": 19,
     "metadata": {},
     "output_type": "execute_result"
    },
    {
     "data": {
      "image/png": "[encoded data removed]",
      "text/plain": [
       "<Figure size 640x480 with 1 Axes>"
      ]
     },
     "metadata": {},
     "output_type": "display_data"
    }
   ],
   "source": [
    "it = iter(x_train[0])\n",
    "img = list(iter(lambda: list(islice(it, 28)), []))\n",
    "plt.imshow(img, cmap=\"gray\")"
   ]
  },
  {
   "cell_type": "code",
   "execution_count": 20,
   "metadata": {},
   "outputs": [
    {
     "data": {
      "text/plain": [
       "0.98828125"
      ]
     },
     "execution_count": 20,
     "metadata": {},
     "output_type": "execute_result"
    }
   ],
   "source": [
    "class Matrix:\n",
    "    def __init__(self, xs): self.xs = xs\n",
    "    # By creating a matrix class that allows you to pass in an array of indexes this means that we can use array formatting [20, 15] instead of [20][15]\n",
    "    # We just have to actually index them ourselves inside the class definition\n",
    "    def __getitem__(self, idxs): return self.xs[idxs[0]][idxs[1]]\n",
    "\n",
    "# This is how torch does it\n",
    "m = Matrix(img)\n",
    "m[20,15]"
   ]
  },
  {
   "cell_type": "code",
   "execution_count": 21,
   "metadata": {},
   "outputs": [
    {
     "name": "stdout",
     "output_type": "stream",
     "text": [
      "torch.Size([50000, 784])\n"
     ]
    },
    {
     "data": {
      "text/plain": [
       "'torch.FloatTensor'"
      ]
     },
     "execution_count": 21,
     "metadata": {},
     "output_type": "execute_result"
    }
   ],
   "source": [
    "import torch\n",
    "from torch import tensor\n",
    "\n",
    "tensor([1,2,3])\n",
    "\n",
    "# We map the entire training set to tensors\n",
    "x_train,y_train,x_valid,y_valid = map(tensor, (x_train,y_train,x_valid,y_valid))\n",
    "\n",
    "# We now have a training set of 50,000 of these images which are all FloatTensors\n",
    "print(x_train.shape)\n",
    "x_train.type()"
   ]
  },
  {
   "cell_type": "code",
   "execution_count": 23,
   "metadata": {},
   "outputs": [
    {
     "name": "stdout",
     "output_type": "stream",
     "text": [
      "torch.Size([50000, 28, 28])\n"
     ]
    },
    {
     "data": {
      "text/plain": [
       "<matplotlib.image.AxesImage at 0x1e5d243f890>"
      ]
     },
     "execution_count": 23,
     "metadata": {},
     "output_type": "execute_result"
    },
    {
     "data": {
      "image/png": "[encoded data removed]",
      "text/plain": [
       "<Figure size 640x480 with 1 Axes>"
      ]
     },
     "metadata": {},
     "output_type": "display_data"
    }
   ],
   "source": [
    "# .reshape allows us to choose how we want to format the matrices, we can use our -1 dimension to keep the 50,000 different images and then 28, 28\n",
    "imgs = x_train.reshape((-1,28,28))\n",
    "print(imgs.shape)\n",
    "plt.imshow(imgs[0], cmap=\"gray\")"
   ]
  },
  {
   "cell_type": "code",
   "execution_count": 28,
   "metadata": {},
   "outputs": [
    {
     "name": "stdout",
     "output_type": "stream",
     "text": [
      "torch.Size([5, 784]) torch.Size([784, 10])\n"
     ]
    },
    {
     "data": {
      "text/plain": [
       "(tensor([[-10.94,  -0.68,  -7.00,  -4.01,  -2.09,  -3.36,   3.91,  -3.44, -11.47,  -2.12],\n",
       "         [ 14.54,   6.00,   2.89,  -4.08,   6.59, -14.74,  -9.28,   2.16, -15.28,  -2.68],\n",
       "         [  2.22,  -3.22,  -4.80,  -6.05,  14.17,  -8.98,  -4.79,  -5.44, -20.68,  13.57],\n",
       "         [ -6.71,   8.90,  -7.46,  -7.90,   2.70,  -4.73, -11.03, -12.98,  -6.44,   3.64],\n",
       "         [ -2.44,  -6.40,  -2.40,  -9.04,  11.18,  -5.77,  -8.92,  -3.79,  -8.98,   5.28]]),\n",
       " torch.Size([5, 10]))"
      ]
     },
     "execution_count": 28,
     "metadata": {},
     "output_type": "execute_result"
    }
   ],
   "source": [
    "# We can set printoptions witin torch and pandas that will help see our data easier\n",
    "torch.set_printoptions(precision=2, linewidth=140, sci_mode=False)\n",
    "\n",
    "torch.manual_seed(1)\n",
    "weights = torch.randn(784,10)\n",
    "bias = torch.zeros(10)\n",
    "\n",
    "# Here we pick our first 5 numbers and then our sxecond matrix can be thought of as our wegihts taht would be part of a neural network\n",
    "m1 = x_valid[:5]\n",
    "m2 = weights\n",
    "\n",
    "print(m1.shape,m2.shape)\n",
    "\n",
    "# We have to make sure that the ac and br match and then our output will be ar, bc\n",
    "ar,ac = m1.shape\n",
    "br,bc = m2.shape\n",
    "(ar,ac),(br,bc)\n",
    "\n",
    "# This is our output array that we will fill in using the matrix multiplications\n",
    "output = torch.zeros(ar, bc)\n",
    "output.shape\n",
    "\n",
    "for i in range(ar):\n",
    "    for j in range(bc):\n",
    "        for k in range(ac):\n",
    "            output[i,j] += m1[i,k] * m2[k,j]\n",
    "\n",
    "output, output.shape"
   ]
  },
  {
   "cell_type": "code",
   "execution_count": null,
   "metadata": {},
   "outputs": [],
   "source": [
    "import numpy as np\n",
    "np.set_printoptions(precision=2, linewidth=140)"
   ]
  },
  {
   "cell_type": "markdown",
   "metadata": {},
   "source": [
    "## Numba"
   ]
  },
  {
   "cell_type": "code",
   "execution_count": null,
   "metadata": {},
   "outputs": [],
   "source": [
    "from numba import njit\n",
    "\n",
    "# It will compile this function down to machine code - this one will take the dot product\n",
    "# It does from up to 200ms to 20 microseconds\n",
    "@njit\n",
    "def dot(a,b):\n",
    "    res = 0.0\n",
    "    for i in range(len(a)):\n",
    "        res += a[i] * b[i]\n",
    "    return res"
   ]
  },
  {
   "cell_type": "code",
   "execution_count": null,
   "metadata": {},
   "outputs": [],
   "source": [
    "%time dot(array([1.,2,3]),array([2.,3,4]))"
   ]
  },
  {
   "cell_type": "markdown",
   "metadata": {},
   "source": [
    "Frobenius norm:\n",
    "\n",
    "$$\\| A \\|_F = \\left( \\sum_{i,j=1}^n | a_{ij} |^2 \\right)^{1/2}$$\n",
    "```"
   ]
  },
  {
   "cell_type": "code",
   "execution_count": 36,
   "metadata": {},
   "outputs": [
    {
     "ename": "TypeError",
     "evalue": "unsupported operand type(s) for *: 'Matrix' and 'Matrix'",
     "output_type": "error",
     "traceback": [
      "\u001b[1;31m---------------------------------------------------------------------------\u001b[0m",
      "\u001b[1;31mTypeError\u001b[0m                                 Traceback (most recent call last)",
      "Cell \u001b[1;32mIn[36], line 3\u001b[0m\n\u001b[0;32m      1\u001b[0m \u001b[38;5;66;03m# Frobenius norm is the sum of all rows and columns of matrix squares - rooted\u001b[39;00m\n\u001b[1;32m----> 3\u001b[0m sf \u001b[38;5;241m=\u001b[39m (\u001b[43mm\u001b[49m\u001b[38;5;241;43m*\u001b[39;49m\u001b[43mm\u001b[49m)\u001b[38;5;241m.\u001b[39msum()\n\u001b[0;32m      4\u001b[0m sf\u001b[38;5;241m.\u001b[39msqrt()\n",
      "\u001b[1;31mTypeError\u001b[0m: unsupported operand type(s) for *: 'Matrix' and 'Matrix'"
     ]
    }
   ],
   "source": [
    "# Frobenius norm is the sum of all rows and columns of matrix squares - rooted\n",
    "\n",
    "sf = (m*m).sum()\n",
    "sf.sqrt()"
   ]
  },
  {
   "cell_type": "code",
   "execution_count": 30,
   "metadata": {},
   "outputs": [
    {
     "data": {
      "text/plain": [
       "(tensor([[[-10.94,  -0.68,  -7.00,  -4.01,  -2.09,  -3.36,   3.91,  -3.44, -11.47,  -2.12],\n",
       "          [ 14.54,   6.00,   2.89,  -4.08,   6.59, -14.74,  -9.28,   2.16, -15.28,  -2.68],\n",
       "          [  2.22,  -3.22,  -4.80,  -6.05,  14.17,  -8.98,  -4.79,  -5.44, -20.68,  13.57],\n",
       "          [ -6.71,   8.90,  -7.46,  -7.90,   2.70,  -4.73, -11.03, -12.98,  -6.44,   3.64],\n",
       "          [ -2.44,  -6.40,  -2.40,  -9.04,  11.18,  -5.77,  -8.92,  -3.79,  -8.98,   5.28]]]),\n",
       " tensor([[[-10.94,  -0.68,  -7.00,  -4.01,  -2.09,  -3.36,   3.91,  -3.44, -11.47,  -2.12],\n",
       "          [ 14.54,   6.00,   2.89,  -4.08,   6.59, -14.74,  -9.28,   2.16, -15.28,  -2.68],\n",
       "          [  2.22,  -3.22,  -4.80,  -6.05,  14.17,  -8.98,  -4.79,  -5.44, -20.68,  13.57],\n",
       "          [ -6.71,   8.90,  -7.46,  -7.90,   2.70,  -4.73, -11.03, -12.98,  -6.44,   3.64],\n",
       "          [ -2.44,  -6.40,  -2.40,  -9.04,  11.18,  -5.77,  -8.92,  -3.79,  -8.98,   5.28]]]))"
      ]
     },
     "execution_count": 30,
     "metadata": {},
     "output_type": "execute_result"
    }
   ],
   "source": [
    "# Both of these .unsqueeze(0) and [None, :] both do the same thing - they both insert a new unit axis to our data\n",
    "output.unsqueeze(0), output[None, :]"
   ]
  },
  {
   "cell_type": "code",
   "execution_count": 31,
   "metadata": {},
   "outputs": [
    {
     "data": {
      "text/plain": [
       "(torch.Size([1, 5, 10]), torch.Size([5, 10, 1]))"
      ]
     },
     "execution_count": 31,
     "metadata": {},
     "output_type": "execute_result"
    }
   ],
   "source": [
    "# Using torch you can skip any use of : so you don't have to write [None, :] it would be equivalent to write [None]\n",
    "# However also you can use ... to specify and all preceeding values\n",
    "output[None].shape, output[...,None].shape"
   ]
  },
  {
   "cell_type": "code",
   "execution_count": 35,
   "metadata": {},
   "outputs": [
    {
     "data": {
      "text/plain": [
       "(torch.Size([5, 784]), torch.Size([784, 10]))"
      ]
     },
     "execution_count": 35,
     "metadata": {},
     "output_type": "execute_result"
    }
   ],
   "source": [
    "# Einsums are a compact representation of combining products and sums in a general way.\n",
    "# Repeating letters multiply axes and omitting letters will sum that axis\n",
    "m1.shape,m2.shape"
   ]
  },
  {
   "cell_type": "code",
   "execution_count": 37,
   "metadata": {},
   "outputs": [
    {
     "data": {
      "text/plain": [
       "(torch.Size([5, 784, 10]),\n",
       " tensor([[[-0., -0., -0.,  ..., -0., -0., 0.],\n",
       "          [-0., -0., -0.,  ..., -0., 0., 0.],\n",
       "          [0., 0., -0.,  ..., -0., 0., -0.],\n",
       "          ...,\n",
       "          [0., 0., -0.,  ..., 0., 0., -0.],\n",
       "          [0., 0., 0.,  ..., -0., 0., -0.],\n",
       "          [-0., 0., -0.,  ..., -0., -0., 0.]],\n",
       " \n",
       "         [[-0., -0., -0.,  ..., -0., -0., 0.],\n",
       "          [-0., -0., -0.,  ..., -0., 0., 0.],\n",
       "          [0., 0., -0.,  ..., -0., 0., -0.],\n",
       "          ...,\n",
       "          [0., 0., -0.,  ..., 0., 0., -0.],\n",
       "          [0., 0., 0.,  ..., -0., 0., -0.],\n",
       "          [-0., 0., -0.,  ..., -0., -0., 0.]],\n",
       " \n",
       "         [[-0., -0., -0.,  ..., -0., -0., 0.],\n",
       "          [-0., -0., -0.,  ..., -0., 0., 0.],\n",
       "          [0., 0., -0.,  ..., -0., 0., -0.],\n",
       "          ...,\n",
       "          [0., 0., -0.,  ..., 0., 0., -0.],\n",
       "          [0., 0., 0.,  ..., -0., 0., -0.],\n",
       "          [-0., 0., -0.,  ..., -0., -0., 0.]],\n",
       " \n",
       "         [[-0., -0., -0.,  ..., -0., -0., 0.],\n",
       "          [-0., -0., -0.,  ..., -0., 0., 0.],\n",
       "          [0., 0., -0.,  ..., -0., 0., -0.],\n",
       "          ...,\n",
       "          [0., 0., -0.,  ..., 0., 0., -0.],\n",
       "          [0., 0., 0.,  ..., -0., 0., -0.],\n",
       "          [-0., 0., -0.,  ..., -0., -0., 0.]],\n",
       " \n",
       "         [[-0., -0., -0.,  ..., -0., -0., 0.],\n",
       "          [-0., -0., -0.,  ..., -0., 0., 0.],\n",
       "          [0., 0., -0.,  ..., -0., 0., -0.],\n",
       "          ...,\n",
       "          [0., 0., -0.,  ..., 0., 0., -0.],\n",
       "          [0., 0., 0.,  ..., -0., 0., -0.],\n",
       "          [-0., 0., -0.,  ..., -0., -0., 0.]]]))"
      ]
     },
     "execution_count": 37,
     "metadata": {},
     "output_type": "execute_result"
    }
   ],
   "source": [
    "# Here for exapmle if we want to do a matrix multiplication we would take row i and the value k as well as \n",
    "# c[i,j] += a[i,k] * b[k,j]\n",
    "# c[i,j] = (a[i,:] * b[:,j]).sum()\n",
    "# values along the repeated k axis is going to be repeated then because we did not repeat the i or j then we will get those summed\n",
    "mr = torch.einsum('ik,kj->ikj', m1, m2)\n",
    "mr.shape, mr\n",
    "\n",
    "mr.sum()"
   ]
  },
  {
   "cell_type": "code",
   "execution_count": null,
   "metadata": {},
   "outputs": [
    {
     "data": {
      "text/plain": [
       "tensor([[-10.94,  -0.68,  -7.00,  -4.01,  -2.09,  -3.36,   3.91,  -3.44, -11.47,  -2.12],\n",
       "        [ 14.54,   6.00,   2.89,  -4.08,   6.59, -14.74,  -9.28,   2.16, -15.28,  -2.68],\n",
       "        [  2.22,  -3.22,  -4.80,  -6.05,  14.17,  -8.98,  -4.79,  -5.44, -20.68,  13.57],\n",
       "        [ -6.71,   8.90,  -7.46,  -7.90,   2.70,  -4.73, -11.03, -12.98,  -6.44,   3.64],\n",
       "        [ -2.44,  -6.40,  -2.40,  -9.04,  11.18,  -5.77,  -8.92,  -3.79,  -8.98,   5.28]])"
      ]
     },
     "execution_count": null,
     "metadata": {},
     "output_type": "execute_result"
    }
   ],
   "source": [
    "# Here by omitting these outputs then this means that the k will be summed automatically meaning it can run faster instead of having two separate instructions especially if done on cuda\n",
    "torch.einsum('ik,kj->ij', m1, m2)"
   ]
  },
  {
   "cell_type": "code",
   "execution_count": null,
   "metadata": {},
   "outputs": [],
   "source": [
    "def matmul(a,b): \n",
    "    return torch.einsum('ik,kj->ij', a, b)"
   ]
  },
  {
   "cell_type": "code",
   "execution_count": null,
   "metadata": {},
   "outputs": [],
   "source": [
    "# Pytorch has their own prebuilt and optimised matrix multiplication, highly recommended to be used.\n",
    "x_train @ weights"
   ]
  }
 ],
 "metadata": {
  "kernelspec": {
   "display_name": "Python 3 (ipykernel)",
   "language": "python",
   "name": "python3"
  },
  "language_info": {
   "codemirror_mode": {
    "name": "ipython",
    "version": 3
   },
   "file_extension": ".py",
   "mimetype": "text/x-python",
   "name": "python",
   "nbconvert_exporter": "python",
   "pygments_lexer": "ipython3",
   "version": "3.12.2"
  }
 },
 "nbformat": 4,
 "nbformat_minor": 2
}
