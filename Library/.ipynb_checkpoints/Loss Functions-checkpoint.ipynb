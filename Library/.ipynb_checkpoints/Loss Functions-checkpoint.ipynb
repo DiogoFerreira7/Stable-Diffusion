{
 "cells": [
  {
   "cell_type": "code",
   "execution_count": null,
   "id": "9491b9ad",
   "metadata": {},
   "outputs": [],
   "source": [
    "%run \"Activation Functions.ipynb\""
   ]
  },
  {
   "cell_type": "code",
   "execution_count": null,
   "id": "a57715dd",
   "metadata": {},
   "outputs": [],
   "source": [
    "#| export\n",
    "class MeanSquaredError(Module):\n",
    "    \n",
    "    def forward(self, inputs, target):\n",
    "        return (inputs.squeeze() - target).pow(2).mean()\n",
    "    \n",
    "    def bwd(self, outputs, inputs, target):\n",
    "        # Squeeze to remove any unecessary size 1 dimensions in order to be able to subtract\n",
    "        # by unsqueezing on dimension -1 we create a separate tensor of individual values\n",
    "        # all respective gradient values are then set to this array\n",
    "        inputs.g = 2 * (inputs.squeeze() - target).unsqueeze(-1) / target.shape[0]"
   ]
  },
  {
   "cell_type": "code",
   "execution_count": null,
   "id": "f174fd25",
   "metadata": {},
   "outputs": [],
   "source": []
  },
  {
   "cell_type": "code",
   "execution_count": null,
   "id": "0ed6a450",
   "metadata": {},
   "outputs": [
    {
     "data": {
      "text/plain": [
       "array([2, 3, 4, 5])"
      ]
     },
     "execution_count": null,
     "metadata": {},
     "output_type": "execute_result"
    }
   ],
   "source": [
    "a = ReLU()\n",
    "a([2,3,4,5])\n",
    "a.forward([2,3,4,5])"
   ]
  },
  {
   "cell_type": "code",
   "execution_count": null,
   "id": "c6f70b16",
   "metadata": {},
   "outputs": [
    {
     "ename": "NameError",
     "evalue": "name 'tensor' is not defined",
     "output_type": "error",
     "traceback": [
      "\u001b[1;31m---------------------------------------------------------------------------\u001b[0m",
      "\u001b[1;31mNameError\u001b[0m                                 Traceback (most recent call last)",
      "Cell \u001b[1;32mIn[18], line 1\u001b[0m\n\u001b[1;32m----> 1\u001b[0m tensor([\u001b[38;5;241m1\u001b[39m,\u001b[38;5;241m2\u001b[39m,\u001b[38;5;241m3\u001b[39m,\u001b[38;5;241m44\u001b[39m])\n",
      "\u001b[1;31mNameError\u001b[0m: name 'tensor' is not defined"
     ]
    }
   ],
   "source": [
    "tensor([1,2,3,44])"
   ]
  },
  {
   "cell_type": "code",
   "execution_count": null,
   "id": "8dff52a5",
   "metadata": {},
   "outputs": [],
   "source": []
  }
 ],
 "metadata": {
  "kernelspec": {
   "display_name": "python3",
   "language": "python",
   "name": "python3"
  }
 },
 "nbformat": 4,
 "nbformat_minor": 5
}
